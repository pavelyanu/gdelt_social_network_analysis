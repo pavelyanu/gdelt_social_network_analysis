{
 "cells": [
  {
   "cell_type": "markdown",
   "metadata": {},
   "source": [
    "# Migration Social Network Analysis"
   ]
  },
  {
   "cell_type": "code",
   "execution_count": 1,
   "metadata": {},
   "outputs": [],
   "source": [
    "%load_ext autoreload\n",
    "%autoreload 2"
   ]
  },
  {
   "cell_type": "code",
   "execution_count": 2,
   "metadata": {},
   "outputs": [],
   "source": [
    "import sys\n",
    "sys.path.append('..')"
   ]
  },
  {
   "cell_type": "code",
   "execution_count": 3,
   "metadata": {},
   "outputs": [],
   "source": [
    "import pandas as pd"
   ]
  },
  {
   "cell_type": "code",
   "execution_count": 4,
   "metadata": {},
   "outputs": [
    {
     "name": "stderr",
     "output_type": "stream",
     "text": [
      "/home/pavel/miniconda3/envs/social/lib/python3.12/site-packages/tqdm/auto.py:21: TqdmWarning: IProgress not found. Please update jupyter and ipywidgets. See https://ipywidgets.readthedocs.io/en/stable/user_install.html\n",
      "  from .autonotebook import tqdm as notebook_tqdm\n"
     ]
    }
   ],
   "source": [
    "from src.network import build_year_migration_network, report_G_info, get_G_info, get_top_values, visualise_graph, create_subgraph"
   ]
  },
  {
   "cell_type": "code",
   "execution_count": 5,
   "metadata": {},
   "outputs": [
    {
     "data": {
      "text/html": [
       "<div>\n",
       "<style scoped>\n",
       "    .dataframe tbody tr th:only-of-type {\n",
       "        vertical-align: middle;\n",
       "    }\n",
       "\n",
       "    .dataframe tbody tr th {\n",
       "        vertical-align: top;\n",
       "    }\n",
       "\n",
       "    .dataframe thead th {\n",
       "        text-align: right;\n",
       "    }\n",
       "</style>\n",
       "<table border=\"1\" class=\"dataframe\">\n",
       "  <thead>\n",
       "    <tr style=\"text-align: right;\">\n",
       "      <th></th>\n",
       "      <th>iso_or</th>\n",
       "      <th>origin</th>\n",
       "      <th>iso_des</th>\n",
       "      <th>destination</th>\n",
       "      <th>year</th>\n",
       "      <th>stock</th>\n",
       "      <th>flow</th>\n",
       "    </tr>\n",
       "  </thead>\n",
       "  <tbody>\n",
       "    <tr>\n",
       "      <th>0</th>\n",
       "      <td>AAB</td>\n",
       "      <td>Antigua and Barbuda</td>\n",
       "      <td>ABW</td>\n",
       "      <td>Aruba</td>\n",
       "      <td>1960</td>\n",
       "      <td>16</td>\n",
       "      <td>NaN</td>\n",
       "    </tr>\n",
       "    <tr>\n",
       "      <th>1</th>\n",
       "      <td>AAB</td>\n",
       "      <td>Antigua and Barbuda</td>\n",
       "      <td>ABW</td>\n",
       "      <td>Aruba</td>\n",
       "      <td>1961</td>\n",
       "      <td>16</td>\n",
       "      <td>0.0</td>\n",
       "    </tr>\n",
       "    <tr>\n",
       "      <th>2</th>\n",
       "      <td>AAB</td>\n",
       "      <td>Antigua and Barbuda</td>\n",
       "      <td>ABW</td>\n",
       "      <td>Aruba</td>\n",
       "      <td>1962</td>\n",
       "      <td>15</td>\n",
       "      <td>-1.0</td>\n",
       "    </tr>\n",
       "    <tr>\n",
       "      <th>3</th>\n",
       "      <td>AAB</td>\n",
       "      <td>Antigua and Barbuda</td>\n",
       "      <td>ABW</td>\n",
       "      <td>Aruba</td>\n",
       "      <td>1963</td>\n",
       "      <td>15</td>\n",
       "      <td>0.0</td>\n",
       "    </tr>\n",
       "    <tr>\n",
       "      <th>4</th>\n",
       "      <td>AAB</td>\n",
       "      <td>Antigua and Barbuda</td>\n",
       "      <td>ABW</td>\n",
       "      <td>Aruba</td>\n",
       "      <td>1964</td>\n",
       "      <td>15</td>\n",
       "      <td>0.0</td>\n",
       "    </tr>\n",
       "    <tr>\n",
       "      <th>...</th>\n",
       "      <td>...</td>\n",
       "      <td>...</td>\n",
       "      <td>...</td>\n",
       "      <td>...</td>\n",
       "      <td>...</td>\n",
       "      <td>...</td>\n",
       "      <td>...</td>\n",
       "    </tr>\n",
       "    <tr>\n",
       "      <th>2889683</th>\n",
       "      <td>ZIM</td>\n",
       "      <td>Zimbabwe</td>\n",
       "      <td>ZAM</td>\n",
       "      <td>Zambia</td>\n",
       "      <td>2016</td>\n",
       "      <td>13239</td>\n",
       "      <td>150.0</td>\n",
       "    </tr>\n",
       "    <tr>\n",
       "      <th>2889684</th>\n",
       "      <td>ZIM</td>\n",
       "      <td>Zimbabwe</td>\n",
       "      <td>ZAM</td>\n",
       "      <td>Zambia</td>\n",
       "      <td>2017</td>\n",
       "      <td>13782</td>\n",
       "      <td>629.0</td>\n",
       "    </tr>\n",
       "    <tr>\n",
       "      <th>2889685</th>\n",
       "      <td>ZIM</td>\n",
       "      <td>Zimbabwe</td>\n",
       "      <td>ZAM</td>\n",
       "      <td>Zambia</td>\n",
       "      <td>2018</td>\n",
       "      <td>14670</td>\n",
       "      <td>976.0</td>\n",
       "    </tr>\n",
       "    <tr>\n",
       "      <th>2889686</th>\n",
       "      <td>ZIM</td>\n",
       "      <td>Zimbabwe</td>\n",
       "      <td>ZAM</td>\n",
       "      <td>Zambia</td>\n",
       "      <td>2019</td>\n",
       "      <td>15720</td>\n",
       "      <td>1142.0</td>\n",
       "    </tr>\n",
       "    <tr>\n",
       "      <th>2889687</th>\n",
       "      <td>ZIM</td>\n",
       "      <td>Zimbabwe</td>\n",
       "      <td>ZAM</td>\n",
       "      <td>Zambia</td>\n",
       "      <td>2020</td>\n",
       "      <td>16817</td>\n",
       "      <td>1194.0</td>\n",
       "    </tr>\n",
       "  </tbody>\n",
       "</table>\n",
       "<p>2889688 rows × 7 columns</p>\n",
       "</div>"
      ],
      "text/plain": [
       "        iso_or               origin iso_des destination  year  stock    flow\n",
       "0          AAB  Antigua and Barbuda     ABW       Aruba  1960     16     NaN\n",
       "1          AAB  Antigua and Barbuda     ABW       Aruba  1961     16     0.0\n",
       "2          AAB  Antigua and Barbuda     ABW       Aruba  1962     15    -1.0\n",
       "3          AAB  Antigua and Barbuda     ABW       Aruba  1963     15     0.0\n",
       "4          AAB  Antigua and Barbuda     ABW       Aruba  1964     15     0.0\n",
       "...        ...                  ...     ...         ...   ...    ...     ...\n",
       "2889683    ZIM             Zimbabwe     ZAM      Zambia  2016  13239   150.0\n",
       "2889684    ZIM             Zimbabwe     ZAM      Zambia  2017  13782   629.0\n",
       "2889685    ZIM             Zimbabwe     ZAM      Zambia  2018  14670   976.0\n",
       "2889686    ZIM             Zimbabwe     ZAM      Zambia  2019  15720  1142.0\n",
       "2889687    ZIM             Zimbabwe     ZAM      Zambia  2020  16817  1194.0\n",
       "\n",
       "[2889688 rows x 7 columns]"
      ]
     },
     "execution_count": 5,
     "metadata": {},
     "output_type": "execute_result"
    }
   ],
   "source": [
    "migration_df = pd.read_csv(\"../data/migration_bilateral.csv\")\n",
    "migration_df = migration_df.drop(columns=[\"inflow\", \"outflow\"])\n",
    "migration_df"
   ]
  },
  {
   "cell_type": "markdown",
   "metadata": {},
   "source": [
    "## Sample analysis of the migration social network for 2011"
   ]
  },
  {
   "cell_type": "code",
   "execution_count": 6,
   "metadata": {},
   "outputs": [],
   "source": [
    "g = build_year_migration_network(migration_df, 2011)"
   ]
  },
  {
   "cell_type": "code",
   "execution_count": 7,
   "metadata": {},
   "outputs": [],
   "source": [
    "info = get_G_info(g)"
   ]
  },
  {
   "cell_type": "code",
   "execution_count": 8,
   "metadata": {},
   "outputs": [
    {
     "name": "stdout",
     "output_type": "stream",
     "text": [
      "node_num: 236\n",
      "edge_num: 42305\n",
      "density: 0.7628020194734945\n",
      "reciprocity: 0.9578396890040726\n",
      "diameter: inf\n",
      "weak_component_num: 1\n",
      "strong_component_num: 9\n"
     ]
    }
   ],
   "source": [
    "report_G_info(info)"
   ]
  },
  {
   "cell_type": "code",
   "execution_count": 9,
   "metadata": {},
   "outputs": [
    {
     "data": {
      "text/plain": [
       "[('USA', 44296929),\n",
       " ('RUS', 11299535),\n",
       " ('GMY', 11269091),\n",
       " ('SAU', 9104314),\n",
       " ('UAE', 7578348),\n",
       " ('FRN', 7413316),\n",
       " ('UKG', 7318698),\n",
       " ('CND', 6954116),\n",
       " ('SPN', 6343589),\n",
       " ('AUL', 6212863)]"
      ]
     },
     "execution_count": 9,
     "metadata": {},
     "output_type": "execute_result"
    }
   ],
   "source": [
    "top_in_degrees = get_top_values(info[\"in_degrees\"], 10)\n",
    "top_in_degrees"
   ]
  },
  {
   "cell_type": "markdown",
   "metadata": {},
   "source": [
    "USA, Russia, Germany, Saudi Arabia, United Arab Emirates, France, United Kingdom, Canada, Spain, Australia, are the countries with the highest number of incoming migrants."
   ]
  },
  {
   "cell_type": "code",
   "execution_count": 10,
   "metadata": {},
   "outputs": [
    {
     "data": {
      "text/plain": [
       "[('IND', 13920086),\n",
       " ('MEX', 12511665),\n",
       " ('RUS', 10144786),\n",
       " ('CHN', 9065008),\n",
       " ('BNG', 6594830),\n",
       " ('UKR', 5503267),\n",
       " ('AFG', 5380606),\n",
       " ('PAK', 5049536),\n",
       " ('PHI', 4882991),\n",
       " ('UKG', 4362110)]"
      ]
     },
     "execution_count": 10,
     "metadata": {},
     "output_type": "execute_result"
    }
   ],
   "source": [
    "top_out_degrees = get_top_values(info[\"out_degrees\"], 10)\n",
    "top_out_degrees"
   ]
  },
  {
   "cell_type": "markdown",
   "metadata": {},
   "source": [
    "India, Mexico, Russia, China, Bangladesh, Ukraine, Afghanistan, Pakistan, Philipines, United Kingdom, have the highest number of outgoing migrants."
   ]
  },
  {
   "cell_type": "code",
   "execution_count": 11,
   "metadata": {},
   "outputs": [
    {
     "data": {
      "text/plain": [
       "[('USA', 0.010044164655638498),\n",
       " ('FRN', 0.009538607818787083),\n",
       " ('UKG', 0.00941495215735025),\n",
       " ('AUL', 0.00889701996879881),\n",
       " ('CND', 0.007480996876873248),\n",
       " ('NTH', 0.007021456220243305),\n",
       " ('NOR', 0.005194647624952051),\n",
       " ('ITA', 0.0048480681491373375),\n",
       " ('ICE', 0.004201243346867179),\n",
       " ('DOM', 0.004195819312920698)]"
      ]
     },
     "execution_count": 11,
     "metadata": {},
     "output_type": "execute_result"
    }
   ],
   "source": [
    "top_betweenness = get_top_values(info[\"betweenness\"], 10)\n",
    "top_betweenness"
   ]
  },
  {
   "cell_type": "markdown",
   "metadata": {},
   "source": [
    "USA, France, United Kingdom, Australia, Canada, The Netherlands, Norway, Italy, Iceland, Dominican Republic, seem to have the highest betweenness centrality. \n",
    "\n",
    "That means these countries are key hubs in this graph (critical transit countries in global migration flows). These countries act as important bridges or gatekeepers within the global migration network."
   ]
  },
  {
   "cell_type": "code",
   "execution_count": 12,
   "metadata": {},
   "outputs": [
    {
     "data": {
      "text/plain": [
       "[('TKL', 1.0),\n",
       " ('SCG', 1.0),\n",
       " ('YUG', 1.0),\n",
       " ('TAW', 1.0),\n",
       " ('SPM', 1.0),\n",
       " ('VAT', 1.0),\n",
       " ('SUN', 1.0),\n",
       " ('NAU', 1.0),\n",
       " ('GIB', 1.0),\n",
       " ('ESH', 1.0),\n",
       " ('CZE', 1.0),\n",
       " ('BFO', 0.9978556023919224),\n",
       " ('CAM', 0.9978556023919224),\n",
       " ('TAJ', 0.9978556023919224),\n",
       " ('CDI', 0.9978556023919224),\n",
       " ('BMU', 0.9978556023919224),\n",
       " ('MNC', 0.9978556023919224),\n",
       " ('GNB', 0.9978556023919224),\n",
       " ('AND', 0.9978556023919224),\n",
       " ('TCA', 0.9978556023919224)]"
      ]
     },
     "execution_count": 12,
     "metadata": {},
     "output_type": "execute_result"
    }
   ],
   "source": [
    "top_clusteringcoeffs = get_top_values(info[\"clustering_coefficients\"], 20)\n",
    "top_clusteringcoeffs"
   ]
  },
  {
   "cell_type": "markdown",
   "metadata": {},
   "source": [
    "Gibraltar, Saint Pierre and Miquelon, Czechia, Taiwan, Former Soviet Union, Vatican City, Tokelau, Serbia and Montenegro, Yugoslavia, Nauru, Western Sahara seem to have the highest clustering coefficients.\n",
    "\n",
    "A high clustering coefficient for a particular country in a migration network suggests that the set of countries it is directly connected to (the countries sending migrants to it or receiving migrants from it) also tend to be interconnected with each other. So, its neighborhood forms a tightly knit group.\n",
    "\n",
    "In the context of migration, such a cluster might reflect a regional bloc ( countries that are geographically close and frequently exchange migrants) or a group of countries that share cultural, historical, or linguistic ties. A high clustering coefficient could indicate the presence of a tightly interwoven sub-network of countries with strong mutual migration patterns."
   ]
  },
  {
   "cell_type": "markdown",
   "metadata": {},
   "source": [
    "### Example of a subgraph and how it looks like visualised"
   ]
  },
  {
   "cell_type": "code",
   "execution_count": 13,
   "metadata": {},
   "outputs": [
    {
     "data": {
      "image/png": "[encoded data removed]",
      "text/plain": [
       "<Figure size 640x480 with 1 Axes>"
      ]
     },
     "metadata": {},
     "output_type": "display_data"
    }
   ],
   "source": [
    "subgraph = create_subgraph(g, ['ALB', 'BLR', 'GMY', 'USA', 'CHE', 'AUT', 'ITA', 'GBK', 'RUS', 'SPN'])\n",
    "visualise_graph(subgraph)"
   ]
  },
  {
   "cell_type": "markdown",
   "metadata": {},
   "source": [
    "## Analyse the full social network and see how the main nodes change through out the years"
   ]
  },
  {
   "cell_type": "code",
   "execution_count": 14,
   "metadata": {},
   "outputs": [],
   "source": [
    "from src.network import build_full_migration_network, get_full_info"
   ]
  },
  {
   "cell_type": "code",
   "execution_count": 15,
   "metadata": {},
   "outputs": [],
   "source": [
    "G = build_full_migration_network(migration_df)"
   ]
  },
  {
   "cell_type": "code",
   "execution_count": null,
   "metadata": {},
   "outputs": [],
   "source": [
    "info_full = get_full_info(G)"
   ]
  },
  {
   "cell_type": "markdown",
   "metadata": {},
   "source": [
    "### Plot centralities as animations through years"
   ]
  },
  {
   "cell_type": "code",
   "execution_count": null,
   "metadata": {},
   "outputs": [],
   "source": [
    "from src.network import plot_bar, get_animation"
   ]
  },
  {
   "cell_type": "code",
   "execution_count": null,
   "metadata": {},
   "outputs": [],
   "source": [
    "an = get_animation(info_full)\n",
    "an.save(\"../gifs/top_betweenness.gif\")"
   ]
  },
  {
   "cell_type": "code",
   "execution_count": null,
   "metadata": {},
   "outputs": [],
   "source": [
    "an_out = get_animation(info_full, measure=\"out_degrees\")\n",
    "an_out.save(\"../gifs/out_degrees.gif\")"
   ]
  },
  {
   "cell_type": "code",
   "execution_count": null,
   "metadata": {},
   "outputs": [],
   "source": [
    "an_in = get_animation(info_full, measure=\"in_degrees\")\n",
    "an_in.save(\"../gifs/in_degrees.gif\")"
   ]
  }
 ],
 "metadata": {
  "kernelspec": {
   "display_name": "Python 3 (ipykernel)",
   "language": "python",
   "name": "python3"
  },
  "language_info": {
   "codemirror_mode": {
    "name": "ipython",
    "version": 3
   },
   "file_extension": ".py",
   "mimetype": "text/x-python",
   "name": "python",
   "nbconvert_exporter": "python",
   "pygments_lexer": "ipython3",
   "version": "3.12.2"
  }
 },
 "nbformat": 4,
 "nbformat_minor": 4
}
