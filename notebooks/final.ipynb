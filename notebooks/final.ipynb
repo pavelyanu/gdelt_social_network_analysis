{
 "cells": [
  {
   "cell_type": "markdown",
   "metadata": {},
   "source": [
    "# GDELT and Migration Social Network Analysis"
   ]
  },
  {
   "cell_type": "markdown",
   "metadata": {},
   "source": [
    "## Migration Social Network Analysis"
   ]
  },
  {
   "cell_type": "code",
   "execution_count": 2,
   "metadata": {},
   "outputs": [],
   "source": [
    "%load_ext autoreload\n",
    "%autoreload 2"
   ]
  },
  {
   "cell_type": "code",
   "execution_count": 3,
   "metadata": {},
   "outputs": [],
   "source": [
    "import sys\n",
    "sys.path.append('..')"
   ]
  },
  {
   "cell_type": "code",
   "execution_count": 4,
   "metadata": {},
   "outputs": [],
   "source": [
    "import pandas as pd"
   ]
  },
  {
   "cell_type": "code",
   "execution_count": 5,
   "metadata": {},
   "outputs": [
    {
     "name": "stderr",
     "output_type": "stream",
     "text": [
      "/Users/penda/Documents/uni/socialnetw/.venv/lib/python3.9/site-packages/tqdm/auto.py:21: TqdmWarning: IProgress not found. Please update jupyter and ipywidgets. See https://ipywidgets.readthedocs.io/en/stable/user_install.html\n",
      "  from .autonotebook import tqdm as notebook_tqdm\n"
     ]
    }
   ],
   "source": [
    "from src.network import build_year_migration_network, report_G_info, get_G_info, get_top_values, visualise_graph, create_subgraph"
   ]
  },
  {
   "cell_type": "code",
   "execution_count": 6,
   "metadata": {},
   "outputs": [
    {
     "data": {
      "text/html": [
       "<div>\n",
       "<style scoped>\n",
       "    .dataframe tbody tr th:only-of-type {\n",
       "        vertical-align: middle;\n",
       "    }\n",
       "\n",
       "    .dataframe tbody tr th {\n",
       "        vertical-align: top;\n",
       "    }\n",
       "\n",
       "    .dataframe thead th {\n",
       "        text-align: right;\n",
       "    }\n",
       "</style>\n",
       "<table border=\"1\" class=\"dataframe\">\n",
       "  <thead>\n",
       "    <tr style=\"text-align: right;\">\n",
       "      <th></th>\n",
       "      <th>iso_or</th>\n",
       "      <th>origin</th>\n",
       "      <th>iso_des</th>\n",
       "      <th>destination</th>\n",
       "      <th>year</th>\n",
       "      <th>stock</th>\n",
       "      <th>flow</th>\n",
       "    </tr>\n",
       "  </thead>\n",
       "  <tbody>\n",
       "    <tr>\n",
       "      <th>0</th>\n",
       "      <td>AAB</td>\n",
       "      <td>Antigua and Barbuda</td>\n",
       "      <td>ABW</td>\n",
       "      <td>Aruba</td>\n",
       "      <td>1960</td>\n",
       "      <td>16</td>\n",
       "      <td>NaN</td>\n",
       "    </tr>\n",
       "    <tr>\n",
       "      <th>1</th>\n",
       "      <td>AAB</td>\n",
       "      <td>Antigua and Barbuda</td>\n",
       "      <td>ABW</td>\n",
       "      <td>Aruba</td>\n",
       "      <td>1961</td>\n",
       "      <td>16</td>\n",
       "      <td>0.0</td>\n",
       "    </tr>\n",
       "    <tr>\n",
       "      <th>2</th>\n",
       "      <td>AAB</td>\n",
       "      <td>Antigua and Barbuda</td>\n",
       "      <td>ABW</td>\n",
       "      <td>Aruba</td>\n",
       "      <td>1962</td>\n",
       "      <td>15</td>\n",
       "      <td>-1.0</td>\n",
       "    </tr>\n",
       "    <tr>\n",
       "      <th>3</th>\n",
       "      <td>AAB</td>\n",
       "      <td>Antigua and Barbuda</td>\n",
       "      <td>ABW</td>\n",
       "      <td>Aruba</td>\n",
       "      <td>1963</td>\n",
       "      <td>15</td>\n",
       "      <td>0.0</td>\n",
       "    </tr>\n",
       "    <tr>\n",
       "      <th>4</th>\n",
       "      <td>AAB</td>\n",
       "      <td>Antigua and Barbuda</td>\n",
       "      <td>ABW</td>\n",
       "      <td>Aruba</td>\n",
       "      <td>1964</td>\n",
       "      <td>15</td>\n",
       "      <td>0.0</td>\n",
       "    </tr>\n",
       "    <tr>\n",
       "      <th>...</th>\n",
       "      <td>...</td>\n",
       "      <td>...</td>\n",
       "      <td>...</td>\n",
       "      <td>...</td>\n",
       "      <td>...</td>\n",
       "      <td>...</td>\n",
       "      <td>...</td>\n",
       "    </tr>\n",
       "    <tr>\n",
       "      <th>2889683</th>\n",
       "      <td>ZIM</td>\n",
       "      <td>Zimbabwe</td>\n",
       "      <td>ZAM</td>\n",
       "      <td>Zambia</td>\n",
       "      <td>2016</td>\n",
       "      <td>13239</td>\n",
       "      <td>150.0</td>\n",
       "    </tr>\n",
       "    <tr>\n",
       "      <th>2889684</th>\n",
       "      <td>ZIM</td>\n",
       "      <td>Zimbabwe</td>\n",
       "      <td>ZAM</td>\n",
       "      <td>Zambia</td>\n",
       "      <td>2017</td>\n",
       "      <td>13782</td>\n",
       "      <td>629.0</td>\n",
       "    </tr>\n",
       "    <tr>\n",
       "      <th>2889685</th>\n",
       "      <td>ZIM</td>\n",
       "      <td>Zimbabwe</td>\n",
       "      <td>ZAM</td>\n",
       "      <td>Zambia</td>\n",
       "      <td>2018</td>\n",
       "      <td>14670</td>\n",
       "      <td>976.0</td>\n",
       "    </tr>\n",
       "    <tr>\n",
       "      <th>2889686</th>\n",
       "      <td>ZIM</td>\n",
       "      <td>Zimbabwe</td>\n",
       "      <td>ZAM</td>\n",
       "      <td>Zambia</td>\n",
       "      <td>2019</td>\n",
       "      <td>15720</td>\n",
       "      <td>1142.0</td>\n",
       "    </tr>\n",
       "    <tr>\n",
       "      <th>2889687</th>\n",
       "      <td>ZIM</td>\n",
       "      <td>Zimbabwe</td>\n",
       "      <td>ZAM</td>\n",
       "      <td>Zambia</td>\n",
       "      <td>2020</td>\n",
       "      <td>16817</td>\n",
       "      <td>1194.0</td>\n",
       "    </tr>\n",
       "  </tbody>\n",
       "</table>\n",
       "<p>2889688 rows × 7 columns</p>\n",
       "</div>"
      ],
      "text/plain": [
       "        iso_or               origin iso_des destination  year  stock    flow\n",
       "0          AAB  Antigua and Barbuda     ABW       Aruba  1960     16     NaN\n",
       "1          AAB  Antigua and Barbuda     ABW       Aruba  1961     16     0.0\n",
       "2          AAB  Antigua and Barbuda     ABW       Aruba  1962     15    -1.0\n",
       "3          AAB  Antigua and Barbuda     ABW       Aruba  1963     15     0.0\n",
       "4          AAB  Antigua and Barbuda     ABW       Aruba  1964     15     0.0\n",
       "...        ...                  ...     ...         ...   ...    ...     ...\n",
       "2889683    ZIM             Zimbabwe     ZAM      Zambia  2016  13239   150.0\n",
       "2889684    ZIM             Zimbabwe     ZAM      Zambia  2017  13782   629.0\n",
       "2889685    ZIM             Zimbabwe     ZAM      Zambia  2018  14670   976.0\n",
       "2889686    ZIM             Zimbabwe     ZAM      Zambia  2019  15720  1142.0\n",
       "2889687    ZIM             Zimbabwe     ZAM      Zambia  2020  16817  1194.0\n",
       "\n",
       "[2889688 rows x 7 columns]"
      ]
     },
     "execution_count": 6,
     "metadata": {},
     "output_type": "execute_result"
    }
   ],
   "source": [
    "migration_df = pd.read_csv(\"../data/migration_bilateral.csv\")\n",
    "migration_df = migration_df.drop(columns=[\"inflow\", \"outflow\"])\n",
    "migration_df"
   ]
  },
  {
   "cell_type": "markdown",
   "metadata": {},
   "source": [
    "### Sample analysis of the migration social network for 2011"
   ]
  },
  {
   "cell_type": "code",
   "execution_count": 7,
   "metadata": {},
   "outputs": [],
   "source": [
    "g = build_year_migration_network(migration_df, 2011)"
   ]
  },
  {
   "cell_type": "code",
   "execution_count": 8,
   "metadata": {},
   "outputs": [],
   "source": [
    "info = get_G_info(g)"
   ]
  },
  {
   "cell_type": "code",
   "execution_count": 9,
   "metadata": {},
   "outputs": [
    {
     "name": "stdout",
     "output_type": "stream",
     "text": [
      "node_num: 236\n",
      "edge_num: 42305\n",
      "density: 0.7628020194734945\n",
      "reciprocity: 0.9578396890040726\n",
      "diameter: inf\n",
      "weak_component_num: 1\n",
      "strong_component_num: 9\n"
     ]
    }
   ],
   "source": [
    "report_G_info(info)"
   ]
  },
  {
   "cell_type": "code",
   "execution_count": 10,
   "metadata": {},
   "outputs": [
    {
     "data": {
      "text/plain": [
       "[('USA', 44296929),\n",
       " ('RUS', 11299535),\n",
       " ('GMY', 11269091),\n",
       " ('SAU', 9104314),\n",
       " ('UAE', 7578348),\n",
       " ('FRN', 7413316),\n",
       " ('UKG', 7318698),\n",
       " ('CND', 6954116),\n",
       " ('SPN', 6343589),\n",
       " ('AUL', 6212863)]"
      ]
     },
     "execution_count": 10,
     "metadata": {},
     "output_type": "execute_result"
    }
   ],
   "source": [
    "top_in_degrees = get_top_values(info[\"in_degrees\"], 10)\n",
    "top_in_degrees"
   ]
  },
  {
   "cell_type": "markdown",
   "metadata": {},
   "source": [
    "USA, Russia, Germany, Saudi Arabia, United Arab Emirates, France, United Kingdom, Canada, Spain, Australia, are the countries with the highest number of incoming migrants."
   ]
  },
  {
   "cell_type": "code",
   "execution_count": 11,
   "metadata": {},
   "outputs": [
    {
     "data": {
      "text/plain": [
       "[('IND', 13920086),\n",
       " ('MEX', 12511665),\n",
       " ('RUS', 10144786),\n",
       " ('CHN', 9065008),\n",
       " ('BNG', 6594830),\n",
       " ('UKR', 5503267),\n",
       " ('AFG', 5380606),\n",
       " ('PAK', 5049536),\n",
       " ('PHI', 4882991),\n",
       " ('UKG', 4362110)]"
      ]
     },
     "execution_count": 11,
     "metadata": {},
     "output_type": "execute_result"
    }
   ],
   "source": [
    "top_out_degrees = get_top_values(info[\"out_degrees\"], 10)\n",
    "top_out_degrees"
   ]
  },
  {
   "cell_type": "markdown",
   "metadata": {},
   "source": [
    "India, Mexico, Russia, China, Bangladesh, Ukraine, Afghanistan, Pakistan, Philipines, United Kingdom, have the highest number of outgoing migrants."
   ]
  },
  {
   "cell_type": "code",
   "execution_count": 12,
   "metadata": {},
   "outputs": [
    {
     "data": {
      "text/plain": [
       "[('USA', 0.010044164655638505),\n",
       " ('FRN', 0.009538607818787083),\n",
       " ('UKG', 0.009414952157350248),\n",
       " ('AUL', 0.008897019968798804),\n",
       " ('CND', 0.007480996876873242),\n",
       " ('NTH', 0.007021456220243323),\n",
       " ('NOR', 0.005194647624952041),\n",
       " ('ITA', 0.004848068149137328),\n",
       " ('ICE', 0.0042012433468671785),\n",
       " ('DOM', 0.004195819312920696)]"
      ]
     },
     "execution_count": 12,
     "metadata": {},
     "output_type": "execute_result"
    }
   ],
   "source": [
    "top_betweenness = get_top_values(info[\"betweenness\"], 10)\n",
    "top_betweenness"
   ]
  },
  {
   "cell_type": "markdown",
   "metadata": {},
   "source": [
    "USA, France, United Kingdom, Australia, Canada, The Netherlands, Norway, Italy, Iceland, Dominican Republic, seem to have the highest betweenness centrality. \n",
    "\n",
    "That means these countries are key hubs in this graph (critical transit countries in global migration flows). These countries act as important bridges or gatekeepers within the global migration network."
   ]
  },
  {
   "cell_type": "code",
   "execution_count": 13,
   "metadata": {},
   "outputs": [
    {
     "data": {
      "text/plain": [
       "[('CZE', 1.0),\n",
       " ('SCG', 1.0),\n",
       " ('SUN', 1.0),\n",
       " ('ESH', 1.0),\n",
       " ('VAT', 1.0),\n",
       " ('TKL', 1.0),\n",
       " ('NAU', 1.0),\n",
       " ('SPM', 1.0),\n",
       " ('YUG', 1.0),\n",
       " ('TAW', 1.0),\n",
       " ('GIB', 1.0),\n",
       " ('LBR', 0.9978556023919224),\n",
       " ('RWA', 0.9978556023919224),\n",
       " ('BHU', 0.9978556023919224),\n",
       " ('SIE', 0.9978556023919224),\n",
       " ('SNM', 0.9978556023919224),\n",
       " ('TCA', 0.9978556023919224),\n",
       " ('GAB', 0.9978556023919224),\n",
       " ('MYA', 0.9978556023919224),\n",
       " ('SAL', 0.9978556023919224)]"
      ]
     },
     "execution_count": 13,
     "metadata": {},
     "output_type": "execute_result"
    }
   ],
   "source": [
    "top_clusteringcoeffs = get_top_values(info[\"clustering_coefficients\"], 20)\n",
    "top_clusteringcoeffs"
   ]
  },
  {
   "cell_type": "markdown",
   "metadata": {},
   "source": [
    "Gibraltar, Saint Pierre and Miquelon, Czechia, Taiwan, Former Soviet Union, Vatican City, Tokelau, Serbia and Montenegro, Yugoslavia, Nauru, Western Sahara seem to have the highest clustering coefficients.\n",
    "\n",
    "A high clustering coefficient for a particular country in a migration network suggests that the set of countries it is directly connected to (the countries sending migrants to it or receiving migrants from it) also tend to be interconnected with each other. So, its neighborhood forms a tightly knit group."
   ]
  },
  {
   "cell_type": "markdown",
   "metadata": {},
   "source": [
    "### Example of a subgraph and how it looks like visualised"
   ]
  },
  {
   "cell_type": "code",
   "execution_count": 14,
   "metadata": {},
   "outputs": [
    {
     "data": {
      "image/png": "[encoded data removed]",
      "text/plain": [
       "<Figure size 640x480 with 1 Axes>"
      ]
     },
     "metadata": {},
     "output_type": "display_data"
    }
   ],
   "source": [
    "subgraph = create_subgraph(g, ['ALB', 'BLR', 'GMY', 'USA', 'CHE', 'AUT', 'ITA', 'GBK', 'RUS', 'SPN'])\n",
    "visualise_graph(subgraph)"
   ]
  },
  {
   "cell_type": "markdown",
   "metadata": {},
   "source": [
    "### Analyse the full social network and see how the main nodes change through out the years"
   ]
  },
  {
   "cell_type": "code",
   "execution_count": 15,
   "metadata": {},
   "outputs": [],
   "source": [
    "from src.network import build_full_migration_network, get_full_info"
   ]
  },
  {
   "cell_type": "code",
   "execution_count": null,
   "metadata": {},
   "outputs": [],
   "source": [
    "G = build_full_migration_network(migration_df)"
   ]
  },
  {
   "cell_type": "code",
   "execution_count": null,
   "metadata": {},
   "outputs": [],
   "source": [
    "info_full = get_full_info(G)"
   ]
  },
  {
   "cell_type": "markdown",
   "metadata": {},
   "source": [
    "#### Plot centralities as animations through years"
   ]
  },
  {
   "cell_type": "code",
   "execution_count": null,
   "metadata": {},
   "outputs": [],
   "source": [
    "from src.network import plot_bar, get_animation"
   ]
  },
  {
   "cell_type": "code",
   "execution_count": null,
   "metadata": {},
   "outputs": [],
   "source": [
    "an = get_animation(info_full)\n",
    "an.save(\"../gifs/top_betweenness.gif\")"
   ]
  },
  {
   "cell_type": "code",
   "execution_count": null,
   "metadata": {},
   "outputs": [],
   "source": [
    "an_out = get_animation(info_full, measure=\"out_degrees\")\n",
    "an_out.save(\"../gifs/out_degrees.gif\")"
   ]
  },
  {
   "cell_type": "code",
   "execution_count": null,
   "metadata": {},
   "outputs": [],
   "source": [
    "an_in = get_animation(info_full, measure=\"in_degrees\")\n",
    "an_in.save(\"../gifs/in_degrees.gif\")"
   ]
  },
  {
   "cell_type": "markdown",
   "metadata": {},
   "source": [
    "## GDELT Social Network Analysis"
   ]
  },
  {
   "cell_type": "code",
   "execution_count": null,
   "metadata": {},
   "outputs": [],
   "source": [
    "import networkx as nx\n",
    "\n",
    "from src.analysis import *\n",
    "from src.data import *\n",
    "from src.network import *\n",
    "from src.plot import *\n",
    "from src.main import *"
   ]
  },
  {
   "cell_type": "code",
   "execution_count": null,
   "metadata": {},
   "outputs": [],
   "source": [
    "data_paths = {dataset: \"\" + path for dataset, path in DATA_PATHS.items()}"
   ]
  },
  {
   "cell_type": "code",
   "execution_count": null,
   "metadata": {},
   "outputs": [],
   "source": [
    "gdelt = get_gdelt(data_paths['gdelt'])\n",
    "gdelt.clean_data()\n",
    "\n",
    "networks = gdelt_network_vanilla(gdelt, years=range(2000, 2025))\n",
    "# plot_yearly_centralities(networks)\n",
    "plot_yearly_communities(networks)"
   ]
  },
  {
   "cell_type": "code",
   "execution_count": null,
   "metadata": {},
   "outputs": [],
   "source": [
    "plot_network(gdelt)"
   ]
  },
  {
   "cell_type": "markdown",
   "metadata": {},
   "source": [
    "## Shuffle Test"
   ]
  },
  {
   "cell_type": "markdown",
   "metadata": {},
   "source": [
    "Want to determine whether the intensity of certain types of GDELT events in year t (negative/positive sentiment events from Country A towards Country B) predicts an increase or decrease in migration flows from A to B in year t+1, controlling for other factors."
   ]
  },
  {
   "cell_type": "code",
   "execution_count": null,
   "metadata": {},
   "outputs": [],
   "source": [
    "from src.network import run_shuffle_test"
   ]
  },
  {
   "cell_type": "code",
   "execution_count": null,
   "metadata": {},
   "outputs": [],
   "source": [
    "gdelt_df = pd.read_csv(\"../data/gdelt_social.csv\") \n",
    "migration_df = pd.read_csv(\"../data/migration_bilateral.csv\")"
   ]
  },
  {
   "cell_type": "code",
   "execution_count": null,
   "metadata": {},
   "outputs": [],
   "source": [
    "gdelt_df"
   ]
  },
  {
   "cell_type": "code",
   "execution_count": null,
   "metadata": {},
   "outputs": [],
   "source": [
    "migration_df = migration_df.drop(columns=[\"inflow\", \"outflow\"])\n",
    "migration_df"
   ]
  },
  {
   "cell_type": "code",
   "execution_count": null,
   "metadata": {},
   "outputs": [],
   "source": [
    "years = list(range(1979,2019))"
   ]
  },
  {
   "cell_type": "code",
   "execution_count": null,
   "metadata": {},
   "outputs": [],
   "source": [
    "results_df = run_shuffle_test(gdelt_df, migration_df, years, weight_col_migration=\"stock\")\n",
    "results_df"
   ]
  },
  {
   "cell_type": "markdown",
   "metadata": {},
   "source": [
    "A series of annual tests comparing the observed correlations between GDELT-based measures and migration stock to a null distribution created by shuffling, each entry showing:\n",
    "\n",
    "year: the year analyzed.\n",
    "observed_corr: The correlation observed in the actual data for that year between the chosen GDELT-based measure and migration stock.\n",
    "p_value: The probability that a correlation as extreme as the observed one could occur by random chance if there were no true relationship.\n",
    "null_mean & null_std: The mean and standard deviation of the correlation values generated by shuffled (null) datasets.\n",
    "\n",
    "Patterns:\n",
    "\n",
    "- observed correlations: All observed correlations are negative and generally small in magnitude. This indicates that in each year, the raw data show a slight tendency for the variables to move in opposite directions, but the effect sizes are quite modest.\n",
    "\n",
    "- statistical significance (p_value): Many years have p-values well above 0.05, indicating no statistically significant difference from what would be expected by chance.\n",
    "Some years stand out with lower p-values:\n",
    "For example, year 2009 has a p-value of 0.028, year 2011 has 0.071 (marginal), 1984 has 0.05, and year 2018 has 0.022. Values below 0.05 suggest that the observed negative correlation that year is somewhat unlikely to have arisen by random chance.\n",
    "These instances might imply that for those particular years, there is a statistically detectable pattern that diverges from randomness. However, the correlation magnitudes remain small, so even if it’s statistically significant, it’s not very strong.\n",
    "\n",
    "- The null means are close to zero, and the standard deviations are small (mostly around 0.02 or less). This indicates that under the null scenario (no real relationship), correlations center near zero and do not vary wildly. When you get an observed correlation noticeably more negative than zero that beats the random distribution, that’s when the p-value falls below 0.05.\n",
    "\n",
    "Interpretation:\n",
    "\n",
    "- For most years, the negative correlations are not statistically distinguishable from what you might get through random shuffling, suggesting no clear evidence of a genuine influence relationship.\n",
    "- A few isolated years show a statistically significant negative correlation, meaning in those years the data deviate from chance in a consistent direction. Still, the correlations are quite small, so even in these cases, the practical significance is questionable.\n",
    "- Because statistical significance can sometimes arise due to multiple comparisons or noise, and because effect sizes are small, it’s best to be cautious. Without a theoretical reason why certain years should differ, these occasional significant results might be anomalies rather than meaningful patterns.\n",
    "\n",
    "Possible explanations for the significant years we encountered:\n",
    "- 1984: Ethiopia experienced a catastrophic famine due to drought and political instability, leading to the displacement of millions to neighbouring countries and beyond. The assassination of Indian Prime Minister Indira Gandhi in 1984 led to anti-Sikh riots, causing internal displacement and prompting some to seek asylum abroad.\n",
    "- 2009: The aftermath of the 2008 financial crisis led to economic downturns worldwide. Economic hardships in various countries may have prompted individuals to migrate in search of better opportunities. The end of the civil war in Sri Lanka in 2009 also resulted in significant internal displacement.\n",
    "- 2011: Syrian Civil War - Beginning in 2011, the Syrian conflict led to one of the largest refugee crises in recent history, with millions fleeing to neighboring countries and Europe. Arab Spring - A series of uprisings across the Middle East and North Africa in 2011 resulted in political instability and conflicts, prompting increased migration from affected regions.\n",
    "- 2018: Severe droughts in Central America's Dry Corridor, exacerbated by climate change, led to crop failures and food insecurity, driving migration towards the United States. Venezuelan Economic Crisis - By 2018, Venezuela's economic collapse had resulted in shortages of basic necessities, leading to a mass exodus of citizens to neighboring countries.\n",
    "\n",
    "The data mostly show no strong or consistent evidence of a meaningful relationship. In a few isolated years, there appears to be a statistically significant negative association, but the effect sizes are small and could be due to chance or other unmodeled factors."
   ]
  }
 ],
 "metadata": {
  "kernelspec": {
   "display_name": ".venv",
   "language": "python",
   "name": "python3"
  },
  "language_info": {
   "codemirror_mode": {
    "name": "ipython",
    "version": 3
   },
   "file_extension": ".py",
   "mimetype": "text/x-python",
   "name": "python",
   "nbconvert_exporter": "python",
   "pygments_lexer": "ipython3",
   "version": "3.9.6"
  }
 },
 "nbformat": 4,
 "nbformat_minor": 2
}
